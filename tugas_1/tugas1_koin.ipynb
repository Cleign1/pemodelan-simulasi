{
 "cells": [
  {
   "cell_type": "code",
   "execution_count": 3,
   "id": "d652fa2c-244b-401e-8fdb-ecd3be4eb47b",
   "metadata": {},
   "outputs": [],
   "source": [
    "import numpy as np\n",
    "# opsional gunakan cupy untuk mengakses GPU agar lebih cepat\n",
    "# import cupy as np"
   ]
  },
  {
   "cell_type": "code",
   "execution_count": 4,
   "id": "c083c9c0",
   "metadata": {},
   "outputs": [
    {
     "name": "stdout",
     "output_type": "stream",
     "text": [
      "Versi Numpy/Cupy yag dipakai: 2.1.1\n"
     ]
    }
   ],
   "source": [
    "print(f'Versi Numpy/Cupy yag dipakai: {np.__version__}')"
   ]
  },
  {
   "cell_type": "markdown",
   "id": "c7e588e9",
   "metadata": {},
   "source": [
    "## Coin flip"
   ]
  },
  {
   "cell_type": "code",
   "execution_count": 5,
   "id": "ddad497d",
   "metadata": {},
   "outputs": [],
   "source": [
    "# buat fungsi coin flip\n",
    "\n",
    "# buat pilihan 0 atau 1, karena koin hanya punya 2 sisi\n",
    "koin = [0, 1]\n",
    "\n",
    "# buat fungsi yang bisa dipanggil berkali - kali,\n",
    "# jika hasil simulasi lemparan koin hasilnya adalah 1 maka akan di cetak gambar\n",
    "# jika hasil simulasi lemparan koin hasilnya adalah 0 maka akan muncul angka\n",
    "# semua ini menggunakan unsur random atau acak\n",
    "def coin_flip():\n",
    "    return \"Gambar\" if np.random.choice(koin) == 0 else \"Angka\""
   ]
  },
  {
   "cell_type": "code",
   "execution_count": 11,
   "id": "6841a01f",
   "metadata": {},
   "outputs": [
    {
     "name": "stdout",
     "output_type": "stream",
     "text": [
      "Hasil Lempar Koin Sekali : Gambar\n"
     ]
    }
   ],
   "source": [
    "# menginisiasi fungsi coin_flip ke variabel lempar_koin, lalu menampikan outputnya\n",
    "lempar_koin = coin_flip()\n",
    "print(f'Hasil Lempar Koin Sekali : {lempar_koin}')"
   ]
  },
  {
   "cell_type": "markdown",
   "id": "dfd23872",
   "metadata": {},
   "source": [
    "## simulasi sebanyak n"
   ]
  },
  {
   "cell_type": "code",
   "execution_count": 12,
   "id": "21a650d3",
   "metadata": {},
   "outputs": [],
   "source": [
    "# membuat fungsi simulasi lempar koin sebanyak n-kali\n",
    "def simulasi_lempar_koin(n):\n",
    "    # membuat variabel untuk mencatat hasil simulasi tersebut\n",
    "    angka_count = 0 # variabel untuk mencatat jumlah 'Angka'\n",
    "    gambar_count = 0 # variabel untuk mencatat jumlah 'Gambar'\n",
    "    \n",
    "    # melakukan perulangan sebanyak n-kali\n",
    "    for _ in range(n):\n",
    "        \n",
    "        # memanggil fungsi coin_flip yang sudah dibuat diatas untuk mensimulasikan lemparan koin\n",
    "        hasil = coin_flip()\n",
    "        \n",
    "        # jika hasil dari variabel itu 'Angka', tambahkan 1 ke angka_count\n",
    "        if hasil == 'Angka':\n",
    "            angka_count += 1\n",
    "            \n",
    "        # jika hasilnya 'Gambar' tambahkan 1 ke gambar_count\n",
    "        else:\n",
    "            gambar_count += 1\n",
    "            \n",
    "    # mengembalikan jumlah total angka dan gambar dari simulasi lempar n-kali\n",
    "    return angka_count, gambar_count"
   ]
  },
  {
   "cell_type": "code",
   "execution_count": 21,
   "id": "b1e52083",
   "metadata": {},
   "outputs": [],
   "source": [
    "# mendefinisikan berapa kali koin akan di lempar\n",
    "lempar = 1000000\n",
    "\n",
    "# mengambil hasil angka dan gambar dari fungsi simulasi lempar koin n-kali\n",
    "angka , gambar = simulasi_lempar_koin(lempar)\n",
    "\n",
    "# menghitung probabilitas angka\n",
    "probabilitas_angka = angka / lempar\n",
    "# menghitung probabilitas gambar\n",
    "probabilitas_gambar = gambar / lempar"
   ]
  },
  {
   "cell_type": "code",
   "execution_count": 22,
   "id": "99a96813",
   "metadata": {},
   "outputs": [
    {
     "name": "stdout",
     "output_type": "stream",
     "text": [
      "Hasil Simulasi melempar koin sebanyak 1000000 kali\n",
      "Probabilitas Asli Lemparan Koin adalah 1/2 atau 0.5\n",
      "Hasil total Angka : 500469 / 1000000\n",
      "Hasil total Gambar : 499531 / 1000000\n",
      "Hasil Probabilitas Angka : 0.500469\n",
      "Hasil Probabilitas Gambar : 0.499531\n"
     ]
    }
   ],
   "source": [
    "# mencetak hasil dari simulasi tersebut\n",
    "print(f'Hasil Simulasi melempar koin sebanyak {lempar} kali')\n",
    "print(f'Probabilitas Asli Lemparan Koin adalah 1/2 atau {1/2}')\n",
    "print(f'Hasil total Angka : {angka} / {lempar}')\n",
    "print(f'Hasil total Gambar : {gambar} / {lempar}')\n",
    "print(f'Hasil Probabilitas Angka : {probabilitas_angka:.6f}')\n",
    "print(f'Hasil Probabilitas Gambar : {probabilitas_gambar:.6f}')"
   ]
  },
  {
   "cell_type": "markdown",
   "id": "9d9fffa9",
   "metadata": {},
   "source": [
    "## Membuat Visualisasi"
   ]
  },
  {
   "cell_type": "code",
   "execution_count": 15,
   "id": "31d2df10",
   "metadata": {},
   "outputs": [],
   "source": [
    "import pandas as pd"
   ]
  },
  {
   "cell_type": "code",
   "execution_count": 16,
   "id": "cfe57833",
   "metadata": {},
   "outputs": [
    {
     "data": {
      "text/html": [
       "<div>\n",
       "<style scoped>\n",
       "    .dataframe tbody tr th:only-of-type {\n",
       "        vertical-align: middle;\n",
       "    }\n",
       "\n",
       "    .dataframe tbody tr th {\n",
       "        vertical-align: top;\n",
       "    }\n",
       "\n",
       "    .dataframe thead th {\n",
       "        text-align: right;\n",
       "    }\n",
       "</style>\n",
       "<table border=\"1\" class=\"dataframe\">\n",
       "  <thead>\n",
       "    <tr style=\"text-align: right;\">\n",
       "      <th></th>\n",
       "      <th>Frekuensi</th>\n",
       "      <th>Probabilitas</th>\n",
       "      <th>Total Lemparan</th>\n",
       "    </tr>\n",
       "    <tr>\n",
       "      <th>Koin</th>\n",
       "      <th></th>\n",
       "      <th></th>\n",
       "      <th></th>\n",
       "    </tr>\n",
       "  </thead>\n",
       "  <tbody>\n",
       "    <tr>\n",
       "      <th>Angka</th>\n",
       "      <td>500361</td>\n",
       "      <td>0.500361</td>\n",
       "      <td>1000000</td>\n",
       "    </tr>\n",
       "    <tr>\n",
       "      <th>Gambar</th>\n",
       "      <td>499639</td>\n",
       "      <td>0.499639</td>\n",
       "      <td>1000000</td>\n",
       "    </tr>\n",
       "  </tbody>\n",
       "</table>\n",
       "</div>"
      ],
      "text/plain": [
       "        Frekuensi  Probabilitas  Total Lemparan\n",
       "Koin                                           \n",
       "Angka      500361      0.500361         1000000\n",
       "Gambar     499639      0.499639         1000000"
      ]
     },
     "execution_count": 16,
     "metadata": {},
     "output_type": "execute_result"
    }
   ],
   "source": [
    "df = pd.DataFrame({\n",
    "    'Koin' : ['Angka','Gambar'],\n",
    "    'Frekuensi' : [angka,gambar],\n",
    "    'Probabilitas' : [probabilitas_angka, probabilitas_gambar],\n",
    "    'Total Lemparan' : lempar\n",
    "})\n",
    "df.set_index(['Koin'], inplace=True)\n",
    "df"
   ]
  }
 ],
 "metadata": {
  "kernelspec": {
   "display_name": ".venv",
   "language": "python",
   "name": "python3"
  },
  "language_info": {
   "codemirror_mode": {
    "name": "ipython",
    "version": 3
   },
   "file_extension": ".py",
   "mimetype": "text/x-python",
   "name": "python",
   "nbconvert_exporter": "python",
   "pygments_lexer": "ipython3",
   "version": "3.11.8"
  }
 },
 "nbformat": 4,
 "nbformat_minor": 5
}

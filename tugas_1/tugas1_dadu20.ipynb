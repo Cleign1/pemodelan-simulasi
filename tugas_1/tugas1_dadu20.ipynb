{
 "cells": [
  {
   "cell_type": "code",
   "execution_count": 1,
   "metadata": {},
   "outputs": [],
   "source": [
    "import numpy as np\n",
    "# opsional, pakai cupy untuk menggunakan GPU agar lebih cepat\n",
    "# import cupy as np"
   ]
  },
  {
   "cell_type": "code",
   "execution_count": 2,
   "metadata": {},
   "outputs": [
    {
     "name": "stdout",
     "output_type": "stream",
     "text": [
      "Numpy/Cupy Versi: 2.1.1\n"
     ]
    }
   ],
   "source": [
    "print(f\"Numpy/Cupy Versi: {np.__version__}\")"
   ]
  },
  {
   "cell_type": "markdown",
   "metadata": {},
   "source": [
    "# Melempar Dadu X-Sisi"
   ]
  },
  {
   "cell_type": "code",
   "execution_count": 12,
   "metadata": {},
   "outputs": [
    {
     "name": "stdout",
     "output_type": "stream",
     "text": [
      "Hasil Lemparan Sekali Dadu 20 sisi : 11\n"
     ]
    }
   ],
   "source": [
    "# membuat hyperparameter dari dadu tersebut\n",
    "# membuat hyperparameter jumlah lemparan dadu yang dilakukan\n",
    "JUMLAH_LEMPARAN  = 1\n",
    "\n",
    "# membuat hyperparameter dari sisi dadu\n",
    "SISI_DADU = 20 # Sisi dadu\n",
    "\n",
    "# memanggil fungsi np.random.randint untuk mensimulasikan dadu dengan parameter sisi dadu dan parameter jumlah lemparan\n",
    "hasil_lemparan = np.random.randint(1,SISI_DADU+1, size=JUMLAH_LEMPARAN)\n",
    "\n",
    "# mencetak hasil dari simulasi tersebut\n",
    "print(f'Hasil Lemparan Sekali Dadu {SISI_DADU} sisi : {hasil_lemparan.astype(np.int64).item()}')"
   ]
  },
  {
   "cell_type": "markdown",
   "metadata": {},
   "source": [
    "## Simulasikan Melempar dadu lebih dari 1 Sisi"
   ]
  },
  {
   "cell_type": "code",
   "execution_count": 13,
   "metadata": {},
   "outputs": [],
   "source": [
    "# Hyperparameter: Jumlah Lemparan yang ingin di-simulasikan\n",
    "JUMLAH_LEMPARAN  = 1000000 \n",
    "\n",
    "# melempar dadu dengan sisi yang di ingingkan sebanyak jumlah lemparan\n",
    "hasil_lemparan = np.random.randint(1,SISI_DADU+1, size=JUMLAH_LEMPARAN)\n",
    "\n",
    "# menghitung berapa kali setiap angka muncul dalam lemparan dadu tersebut kedalam variabel frekuensi\n",
    "frekuensi = np.bincount(hasil_lemparan, minlength=SISI_DADU+1)[1:]"
   ]
  },
  {
   "cell_type": "code",
   "execution_count": 14,
   "metadata": {},
   "outputs": [
    {
     "name": "stdout",
     "output_type": "stream",
     "text": [
      "\n",
      "Menampilkan hasil Frekuensi dadu sisi 20\n",
      "Frekuensi Angka ke-1: 50006 / 1000000\n",
      "Frekuensi Angka ke-2: 49776 / 1000000\n",
      "Frekuensi Angka ke-3: 49763 / 1000000\n",
      "Frekuensi Angka ke-4: 50107 / 1000000\n",
      "Frekuensi Angka ke-5: 50222 / 1000000\n",
      "Frekuensi Angka ke-6: 49913 / 1000000\n",
      "Frekuensi Angka ke-7: 49919 / 1000000\n",
      "Frekuensi Angka ke-8: 50014 / 1000000\n",
      "Frekuensi Angka ke-9: 50310 / 1000000\n",
      "Frekuensi Angka ke-10: 49882 / 1000000\n",
      "Frekuensi Angka ke-11: 49893 / 1000000\n",
      "Frekuensi Angka ke-12: 50051 / 1000000\n",
      "Frekuensi Angka ke-13: 49899 / 1000000\n",
      "Frekuensi Angka ke-14: 50076 / 1000000\n",
      "Frekuensi Angka ke-15: 50296 / 1000000\n",
      "Frekuensi Angka ke-16: 50089 / 1000000\n",
      "Frekuensi Angka ke-17: 49918 / 1000000\n",
      "Frekuensi Angka ke-18: 50291 / 1000000\n",
      "Frekuensi Angka ke-19: 49820 / 1000000\n",
      "Frekuensi Angka ke-20: 49755 / 1000000\n",
      "\n",
      "Hasil Probabilitas Asli Dadu sisi 20 : 0.050000\n",
      "Probabilitas Angka 1: 0.050006\n",
      "Probabilitas Angka 2: 0.049776\n",
      "Probabilitas Angka 3: 0.049763\n",
      "Probabilitas Angka 4: 0.050107\n",
      "Probabilitas Angka 5: 0.050222\n",
      "Probabilitas Angka 6: 0.049913\n",
      "Probabilitas Angka 7: 0.049919\n",
      "Probabilitas Angka 8: 0.050014\n",
      "Probabilitas Angka 9: 0.050310\n",
      "Probabilitas Angka 10: 0.049882\n",
      "Probabilitas Angka 11: 0.049893\n",
      "Probabilitas Angka 12: 0.050051\n",
      "Probabilitas Angka 13: 0.049899\n",
      "Probabilitas Angka 14: 0.050076\n",
      "Probabilitas Angka 15: 0.050296\n",
      "Probabilitas Angka 16: 0.050089\n",
      "Probabilitas Angka 17: 0.049918\n",
      "Probabilitas Angka 18: 0.050291\n",
      "Probabilitas Angka 19: 0.049820\n",
      "Probabilitas Angka 20: 0.049755\n"
     ]
    }
   ],
   "source": [
    "# Menghitung probabilitas\n",
    "probabilitas = frekuensi / JUMLAH_LEMPARAN\n",
    "\n",
    "# menampilkan hasil frekuensi dadu\n",
    "print(f'\\nMenampilkan hasil Frekuensi dadu sisi {SISI_DADU}')\n",
    "for angka, freq in enumerate(frekuensi, start=1):\n",
    "    print(f'Frekuensi Angka ke-{angka}: {freq} / {JUMLAH_LEMPARAN}')\n",
    "\n",
    "# Menampilkan hasil probabilitas untuk setiap angka dari 1 hingga 20\n",
    "print(f'\\nHasil Probabilitas Asli Dadu sisi {SISI_DADU} : {1/SISI_DADU:.6f}')\n",
    "for angka, prob in enumerate(probabilitas, start=1):\n",
    "    print(f\"Probabilitas Angka {angka}: {prob:.6f}\")"
   ]
  },
  {
   "cell_type": "markdown",
   "metadata": {},
   "source": [
    "## Membuat dataframe untuk hasil Dadu tersebut"
   ]
  },
  {
   "cell_type": "code",
   "execution_count": 15,
   "metadata": {},
   "outputs": [],
   "source": [
    "import pandas as pd"
   ]
  },
  {
   "cell_type": "code",
   "execution_count": 16,
   "metadata": {},
   "outputs": [
    {
     "data": {
      "text/html": [
       "<div>\n",
       "<style scoped>\n",
       "    .dataframe tbody tr th:only-of-type {\n",
       "        vertical-align: middle;\n",
       "    }\n",
       "\n",
       "    .dataframe tbody tr th {\n",
       "        vertical-align: top;\n",
       "    }\n",
       "\n",
       "    .dataframe thead th {\n",
       "        text-align: right;\n",
       "    }\n",
       "</style>\n",
       "<table border=\"1\" class=\"dataframe\">\n",
       "  <thead>\n",
       "    <tr style=\"text-align: right;\">\n",
       "      <th></th>\n",
       "      <th>Angka</th>\n",
       "      <th>Frekuensi</th>\n",
       "      <th>Probabilitas</th>\n",
       "    </tr>\n",
       "  </thead>\n",
       "  <tbody>\n",
       "    <tr>\n",
       "      <th>0</th>\n",
       "      <td>1</td>\n",
       "      <td>50006</td>\n",
       "      <td>0.050006</td>\n",
       "    </tr>\n",
       "    <tr>\n",
       "      <th>1</th>\n",
       "      <td>2</td>\n",
       "      <td>49776</td>\n",
       "      <td>0.049776</td>\n",
       "    </tr>\n",
       "    <tr>\n",
       "      <th>2</th>\n",
       "      <td>3</td>\n",
       "      <td>49763</td>\n",
       "      <td>0.049763</td>\n",
       "    </tr>\n",
       "    <tr>\n",
       "      <th>3</th>\n",
       "      <td>4</td>\n",
       "      <td>50107</td>\n",
       "      <td>0.050107</td>\n",
       "    </tr>\n",
       "    <tr>\n",
       "      <th>4</th>\n",
       "      <td>5</td>\n",
       "      <td>50222</td>\n",
       "      <td>0.050222</td>\n",
       "    </tr>\n",
       "    <tr>\n",
       "      <th>5</th>\n",
       "      <td>6</td>\n",
       "      <td>49913</td>\n",
       "      <td>0.049913</td>\n",
       "    </tr>\n",
       "    <tr>\n",
       "      <th>6</th>\n",
       "      <td>7</td>\n",
       "      <td>49919</td>\n",
       "      <td>0.049919</td>\n",
       "    </tr>\n",
       "    <tr>\n",
       "      <th>7</th>\n",
       "      <td>8</td>\n",
       "      <td>50014</td>\n",
       "      <td>0.050014</td>\n",
       "    </tr>\n",
       "    <tr>\n",
       "      <th>8</th>\n",
       "      <td>9</td>\n",
       "      <td>50310</td>\n",
       "      <td>0.050310</td>\n",
       "    </tr>\n",
       "    <tr>\n",
       "      <th>9</th>\n",
       "      <td>10</td>\n",
       "      <td>49882</td>\n",
       "      <td>0.049882</td>\n",
       "    </tr>\n",
       "    <tr>\n",
       "      <th>10</th>\n",
       "      <td>11</td>\n",
       "      <td>49893</td>\n",
       "      <td>0.049893</td>\n",
       "    </tr>\n",
       "    <tr>\n",
       "      <th>11</th>\n",
       "      <td>12</td>\n",
       "      <td>50051</td>\n",
       "      <td>0.050051</td>\n",
       "    </tr>\n",
       "    <tr>\n",
       "      <th>12</th>\n",
       "      <td>13</td>\n",
       "      <td>49899</td>\n",
       "      <td>0.049899</td>\n",
       "    </tr>\n",
       "    <tr>\n",
       "      <th>13</th>\n",
       "      <td>14</td>\n",
       "      <td>50076</td>\n",
       "      <td>0.050076</td>\n",
       "    </tr>\n",
       "    <tr>\n",
       "      <th>14</th>\n",
       "      <td>15</td>\n",
       "      <td>50296</td>\n",
       "      <td>0.050296</td>\n",
       "    </tr>\n",
       "    <tr>\n",
       "      <th>15</th>\n",
       "      <td>16</td>\n",
       "      <td>50089</td>\n",
       "      <td>0.050089</td>\n",
       "    </tr>\n",
       "    <tr>\n",
       "      <th>16</th>\n",
       "      <td>17</td>\n",
       "      <td>49918</td>\n",
       "      <td>0.049918</td>\n",
       "    </tr>\n",
       "    <tr>\n",
       "      <th>17</th>\n",
       "      <td>18</td>\n",
       "      <td>50291</td>\n",
       "      <td>0.050291</td>\n",
       "    </tr>\n",
       "    <tr>\n",
       "      <th>18</th>\n",
       "      <td>19</td>\n",
       "      <td>49820</td>\n",
       "      <td>0.049820</td>\n",
       "    </tr>\n",
       "    <tr>\n",
       "      <th>19</th>\n",
       "      <td>20</td>\n",
       "      <td>49755</td>\n",
       "      <td>0.049755</td>\n",
       "    </tr>\n",
       "  </tbody>\n",
       "</table>\n",
       "</div>"
      ],
      "text/plain": [
       "    Angka  Frekuensi  Probabilitas\n",
       "0       1      50006      0.050006\n",
       "1       2      49776      0.049776\n",
       "2       3      49763      0.049763\n",
       "3       4      50107      0.050107\n",
       "4       5      50222      0.050222\n",
       "5       6      49913      0.049913\n",
       "6       7      49919      0.049919\n",
       "7       8      50014      0.050014\n",
       "8       9      50310      0.050310\n",
       "9      10      49882      0.049882\n",
       "10     11      49893      0.049893\n",
       "11     12      50051      0.050051\n",
       "12     13      49899      0.049899\n",
       "13     14      50076      0.050076\n",
       "14     15      50296      0.050296\n",
       "15     16      50089      0.050089\n",
       "16     17      49918      0.049918\n",
       "17     18      50291      0.050291\n",
       "18     19      49820      0.049820\n",
       "19     20      49755      0.049755"
      ]
     },
     "execution_count": 16,
     "metadata": {},
     "output_type": "execute_result"
    }
   ],
   "source": [
    "data = {\n",
    "    \"Angka\": np.arange(1, SISI_DADU + 1),\n",
    "    \"Frekuensi\": frekuensi,\n",
    "    \"Probabilitas\": probabilitas\n",
    "}\n",
    "\n",
    "df = pd.DataFrame(data)\n",
    "df"
   ]
  },
  {
   "cell_type": "code",
   "execution_count": 19,
   "metadata": {},
   "outputs": [
    {
     "data": {
      "text/plain": [
       "array([0.43180374, 0.91993915, 0.35519214, 0.20777582, 0.92860795,\n",
       "       0.17806674, 0.15265279, 0.96091415, 0.76785022, 0.98970053])"
      ]
     },
     "execution_count": 19,
     "metadata": {},
     "output_type": "execute_result"
    }
   ],
   "source": [
    "np.random.rand(10)"
   ]
  }
 ],
 "metadata": {
  "kernelspec": {
   "display_name": ".venv",
   "language": "python",
   "name": "python3"
  },
  "language_info": {
   "codemirror_mode": {
    "name": "ipython",
    "version": 3
   },
   "file_extension": ".py",
   "mimetype": "text/x-python",
   "name": "python",
   "nbconvert_exporter": "python",
   "pygments_lexer": "ipython3",
   "version": "3.11.8"
  }
 },
 "nbformat": 4,
 "nbformat_minor": 2
}

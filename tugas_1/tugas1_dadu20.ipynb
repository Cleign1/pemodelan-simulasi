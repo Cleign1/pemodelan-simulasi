{
 "cells": [
  {
   "cell_type": "code",
   "execution_count": 1,
   "metadata": {},
   "outputs": [],
   "source": [
    "import numpy as np\n",
    "# opsional, pakai cupy untuk menggunakan GPU agar lebih cepat\n",
    "# import cupy as np"
   ]
  },
  {
   "cell_type": "code",
   "execution_count": 2,
   "metadata": {},
   "outputs": [
    {
     "name": "stdout",
     "output_type": "stream",
     "text": [
      "Numpy/Cupy Versi: 2.1.1\n"
     ]
    }
   ],
   "source": [
    "print(f\"Numpy/Cupy Versi: {np.__version__}\")"
   ]
  },
  {
   "cell_type": "markdown",
   "metadata": {},
   "source": [
    "# Melempar Dadu 20"
   ]
  },
  {
   "cell_type": "code",
   "execution_count": 10,
   "metadata": {},
   "outputs": [
    {
     "data": {
      "text/plain": [
       "5"
      ]
     },
     "execution_count": 10,
     "metadata": {},
     "output_type": "execute_result"
    }
   ],
   "source": [
    "JUMLAH_LEMPARAN  = 1\n",
    "SISI_DADU = 20 # Sisi dadu\n",
    "\n",
    "hasil_lemparan = np.random.randint(1,SISI_DADU+1, size=JUMLAH_LEMPARAN)\n",
    "hasil_lemparan.astype(np.int64).item()"
   ]
  },
  {
   "cell_type": "markdown",
   "metadata": {},
   "source": [
    "## Simulasikan Melempar dadu lebih dari 1 Sisi"
   ]
  },
  {
   "cell_type": "code",
   "execution_count": 11,
   "metadata": {},
   "outputs": [
    {
     "name": "stdout",
     "output_type": "stream",
     "text": [
      "Hasil Simulasi melempar dadu 20 sisi sebanyak 1 juta kali\n",
      "Hasil total Angka 1: 50114 / 1000000\n",
      "Hasil total Angka 2: 50230 / 1000000\n",
      "Hasil total Angka 3: 50143 / 1000000\n",
      "Hasil total Angka 4: 49784 / 1000000\n",
      "Hasil total Angka 5: 50154 / 1000000\n",
      "Hasil total Angka 6: 50269 / 1000000\n",
      "Hasil total Angka 7: 49744 / 1000000\n",
      "Hasil total Angka 8: 50201 / 1000000\n",
      "Hasil total Angka 9: 50241 / 1000000\n",
      "Hasil total Angka 10: 50081 / 1000000\n",
      "Hasil total Angka 11: 49736 / 1000000\n",
      "Hasil total Angka 12: 49791 / 1000000\n",
      "Hasil total Angka 13: 49924 / 1000000\n",
      "Hasil total Angka 14: 49678 / 1000000\n",
      "Hasil total Angka 15: 49548 / 1000000\n",
      "Hasil total Angka 16: 49618 / 1000000\n",
      "Hasil total Angka 17: 50051 / 1000000\n",
      "Hasil total Angka 18: 50285 / 1000000\n",
      "Hasil total Angka 19: 50152 / 1000000\n",
      "Hasil total Angka 20: 50256 / 1000000\n"
     ]
    }
   ],
   "source": [
    "# Jumlah Lemparan yang ingin di-simulasikan\n",
    "JUMLAH_LEMPARAN  = 1000000 \n",
    "\n",
    "# melempar dadu dengan sisi yang di ingingkan sebanyak jumlah lemparan\n",
    "hasil_lemparan = np.random.randint(1,SISI_DADU+1, size=JUMLAH_LEMPARAN)\n",
    "\n",
    "# menghitung berapa kali setiap angka muncul dalam lemparan dadu tersebut\n",
    "frekuensi = np.bincount(hasil_lemparan, minlength=SISI_DADU+1)[1:]"
   ]
  },
  {
   "cell_type": "code",
   "execution_count": 12,
   "metadata": {},
   "outputs": [
    {
     "name": "stdout",
     "output_type": "stream",
     "text": [
      "\n",
      "Hasil Probabilitas:\n",
      "Hasil Probabilitas Asli Dadu sisi 20 : 0.050000\n",
      "Probabilitas Angka 1: 0.050114\n",
      "Probabilitas Angka 2: 0.050230\n",
      "Probabilitas Angka 3: 0.050143\n",
      "Probabilitas Angka 4: 0.049784\n",
      "Probabilitas Angka 5: 0.050154\n",
      "Probabilitas Angka 6: 0.050269\n",
      "Probabilitas Angka 7: 0.049744\n",
      "Probabilitas Angka 8: 0.050201\n",
      "Probabilitas Angka 9: 0.050241\n",
      "Probabilitas Angka 10: 0.050081\n",
      "Probabilitas Angka 11: 0.049736\n",
      "Probabilitas Angka 12: 0.049791\n",
      "Probabilitas Angka 13: 0.049924\n",
      "Probabilitas Angka 14: 0.049678\n",
      "Probabilitas Angka 15: 0.049548\n",
      "Probabilitas Angka 16: 0.049618\n",
      "Probabilitas Angka 17: 0.050051\n",
      "Probabilitas Angka 18: 0.050285\n",
      "Probabilitas Angka 19: 0.050152\n",
      "Probabilitas Angka 20: 0.050256\n"
     ]
    }
   ],
   "source": [
    "# Menghitung probabilitas\n",
    "probabilitas = frekuensi / JUMLAH_LEMPARAN\n",
    "\n",
    "# Menampilkan hasil probabilitas untuk setiap angka dari 1 hingga 20\n",
    "print(\"\\nHasil Probabilitas:\")\n",
    "print(f'Hasil Probabilitas Asli Dadu sisi {SISI_DADU} : {1/SISI_DADU:.6f}')\n",
    "for angka, prob in enumerate(probabilitas, start=1):\n",
    "    print(f\"Probabilitas Angka {angka}: {prob:.6f}\")"
   ]
  }
 ],
 "metadata": {
  "kernelspec": {
   "display_name": ".venv",
   "language": "python",
   "name": "python3"
  },
  "language_info": {
   "codemirror_mode": {
    "name": "ipython",
    "version": 3
   },
   "file_extension": ".py",
   "mimetype": "text/x-python",
   "name": "python",
   "nbconvert_exporter": "python",
   "pygments_lexer": "ipython3",
   "version": "3.11.8"
  }
 },
 "nbformat": 4,
 "nbformat_minor": 2
}

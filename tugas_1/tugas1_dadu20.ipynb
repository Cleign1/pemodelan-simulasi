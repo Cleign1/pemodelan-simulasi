{
 "cells": [
  {
   "cell_type": "code",
   "execution_count": 1,
   "metadata": {},
   "outputs": [],
   "source": [
    "import numpy as np\n",
    "# opsional, pakai cupy untuk menggunakan GPU agar lebih cepat\n",
    "# import cupy as np"
   ]
  },
  {
   "cell_type": "code",
   "execution_count": 2,
   "metadata": {},
   "outputs": [
    {
     "name": "stdout",
     "output_type": "stream",
     "text": [
      "Numpy/Cupy Versi: 2.1.1\n"
     ]
    }
   ],
   "source": [
    "print(f\"Numpy/Cupy Versi: {np.__version__}\")"
   ]
  },
  {
   "cell_type": "markdown",
   "metadata": {},
   "source": [
    "# Melempar Dadu X-Sisi"
   ]
  },
  {
   "cell_type": "code",
   "execution_count": 8,
   "metadata": {},
   "outputs": [
    {
     "name": "stdout",
     "output_type": "stream",
     "text": [
      "Hasil Lemparan Sekali Dadu 20 sisi : 1\n"
     ]
    }
   ],
   "source": [
    "# membuat hyperparameter dari dadu tersebut\n",
    "# membuat hyperparameter jumlah lemparan dadu yang dilakukan\n",
    "JUMLAH_LEMPARAN  = 1\n",
    "\n",
    "# membuat hyperparameter dari sisi dadu\n",
    "SISI_DADU = 20 # Sisi dadu\n",
    "\n",
    "# memanggil fungsi np.random.randint untuk mensimulasikan dadu dengan parameter sisi dadu dan parameter jumlah lemparan\n",
    "hasil_lemparan = np.random.randint(1,SISI_DADU+1, size=JUMLAH_LEMPARAN)\n",
    "\n",
    "# mencetak hasil dari simulasi tersebut\n",
    "print(f'Hasil Lemparan Sekali Dadu {SISI_DADU} sisi : {hasil_lemparan.astype(np.int64).item()}')"
   ]
  },
  {
   "cell_type": "markdown",
   "metadata": {},
   "source": [
    "## Simulasikan Melempar dadu lebih dari 1 Sisi"
   ]
  },
  {
   "cell_type": "code",
   "execution_count": 10,
   "metadata": {},
   "outputs": [],
   "source": [
    "# Hyperparameter: Jumlah Lemparan yang ingin di-simulasikan\n",
    "JUMLAH_LEMPARAN  = 1000000 \n",
    "\n",
    "# melempar dadu dengan sisi yang di ingingkan sebanyak jumlah lemparan\n",
    "hasil_lemparan = np.random.randint(1,SISI_DADU+1, size=JUMLAH_LEMPARAN)\n",
    "\n",
    "# menghitung berapa kali setiap angka muncul dalam lemparan dadu tersebut kedalam variabel frekuensi\n",
    "frekuensi = np.bincount(hasil_lemparan, minlength=SISI_DADU+1)[1:]"
   ]
  },
  {
   "cell_type": "code",
   "execution_count": 14,
   "metadata": {},
   "outputs": [
    {
     "name": "stdout",
     "output_type": "stream",
     "text": [
      "\n",
      "Menampilkan hasil Frekuensi dadu sisi 20\n",
      "Frekuensi Angka ke-1: 49909 / 1000000\n",
      "Frekuensi Angka ke-2: 50110 / 1000000\n",
      "Frekuensi Angka ke-3: 49509 / 1000000\n",
      "Frekuensi Angka ke-4: 50154 / 1000000\n",
      "Frekuensi Angka ke-5: 50053 / 1000000\n",
      "Frekuensi Angka ke-6: 49869 / 1000000\n",
      "Frekuensi Angka ke-7: 50034 / 1000000\n",
      "Frekuensi Angka ke-8: 50285 / 1000000\n",
      "Frekuensi Angka ke-9: 50084 / 1000000\n",
      "Frekuensi Angka ke-10: 49689 / 1000000\n",
      "Frekuensi Angka ke-11: 50246 / 1000000\n",
      "Frekuensi Angka ke-12: 50065 / 1000000\n",
      "Frekuensi Angka ke-13: 50082 / 1000000\n",
      "Frekuensi Angka ke-14: 50149 / 1000000\n",
      "Frekuensi Angka ke-15: 49936 / 1000000\n",
      "Frekuensi Angka ke-16: 50332 / 1000000\n",
      "Frekuensi Angka ke-17: 49640 / 1000000\n",
      "Frekuensi Angka ke-18: 50267 / 1000000\n",
      "Frekuensi Angka ke-19: 50007 / 1000000\n",
      "Frekuensi Angka ke-20: 49580 / 1000000\n",
      "\n",
      "Hasil Probabilitas Asli Dadu sisi 20 : 0.050000\n",
      "Probabilitas Angka 1: 0.049909\n",
      "Probabilitas Angka 2: 0.050110\n",
      "Probabilitas Angka 3: 0.049509\n",
      "Probabilitas Angka 4: 0.050154\n",
      "Probabilitas Angka 5: 0.050053\n",
      "Probabilitas Angka 6: 0.049869\n",
      "Probabilitas Angka 7: 0.050034\n",
      "Probabilitas Angka 8: 0.050285\n",
      "Probabilitas Angka 9: 0.050084\n",
      "Probabilitas Angka 10: 0.049689\n",
      "Probabilitas Angka 11: 0.050246\n",
      "Probabilitas Angka 12: 0.050065\n",
      "Probabilitas Angka 13: 0.050082\n",
      "Probabilitas Angka 14: 0.050149\n",
      "Probabilitas Angka 15: 0.049936\n",
      "Probabilitas Angka 16: 0.050332\n",
      "Probabilitas Angka 17: 0.049640\n",
      "Probabilitas Angka 18: 0.050267\n",
      "Probabilitas Angka 19: 0.050007\n",
      "Probabilitas Angka 20: 0.049580\n"
     ]
    }
   ],
   "source": [
    "# Menghitung probabilitas\n",
    "probabilitas = frekuensi / JUMLAH_LEMPARAN\n",
    "\n",
    "# menampilkan hasil frekuensi dadu\n",
    "print(f'\\nMenampilkan hasil Frekuensi dadu sisi {SISI_DADU}')\n",
    "for angka, freq in enumerate(frekuensi, start=1):\n",
    "    print(f'Frekuensi Angka ke-{angka}: {freq} / {JUMLAH_LEMPARAN}')\n",
    "\n",
    "# Menampilkan hasil probabilitas untuk setiap angka dari 1 hingga 20\n",
    "print(f'\\nHasil Probabilitas Asli Dadu sisi {SISI_DADU} : {1/SISI_DADU:.6f}')\n",
    "for angka, prob in enumerate(probabilitas, start=1):\n",
    "    print(f\"Probabilitas Angka {angka}: {prob:.6f}\")"
   ]
  },
  {
   "cell_type": "markdown",
   "metadata": {},
   "source": [
    "## Membuat dataframe untuk hasil Dadu tersebut"
   ]
  },
  {
   "cell_type": "code",
   "execution_count": 15,
   "metadata": {},
   "outputs": [],
   "source": [
    "import pandas as pd"
   ]
  },
  {
   "cell_type": "code",
   "execution_count": 17,
   "metadata": {},
   "outputs": [
    {
     "data": {
      "text/html": [
       "<div>\n",
       "<style scoped>\n",
       "    .dataframe tbody tr th:only-of-type {\n",
       "        vertical-align: middle;\n",
       "    }\n",
       "\n",
       "    .dataframe tbody tr th {\n",
       "        vertical-align: top;\n",
       "    }\n",
       "\n",
       "    .dataframe thead th {\n",
       "        text-align: right;\n",
       "    }\n",
       "</style>\n",
       "<table border=\"1\" class=\"dataframe\">\n",
       "  <thead>\n",
       "    <tr style=\"text-align: right;\">\n",
       "      <th></th>\n",
       "      <th>Angka</th>\n",
       "      <th>Frekuensi</th>\n",
       "      <th>Probabilitas</th>\n",
       "    </tr>\n",
       "  </thead>\n",
       "  <tbody>\n",
       "    <tr>\n",
       "      <th>0</th>\n",
       "      <td>1</td>\n",
       "      <td>49909</td>\n",
       "      <td>0.049909</td>\n",
       "    </tr>\n",
       "    <tr>\n",
       "      <th>1</th>\n",
       "      <td>2</td>\n",
       "      <td>50110</td>\n",
       "      <td>0.050110</td>\n",
       "    </tr>\n",
       "    <tr>\n",
       "      <th>2</th>\n",
       "      <td>3</td>\n",
       "      <td>49509</td>\n",
       "      <td>0.049509</td>\n",
       "    </tr>\n",
       "    <tr>\n",
       "      <th>3</th>\n",
       "      <td>4</td>\n",
       "      <td>50154</td>\n",
       "      <td>0.050154</td>\n",
       "    </tr>\n",
       "    <tr>\n",
       "      <th>4</th>\n",
       "      <td>5</td>\n",
       "      <td>50053</td>\n",
       "      <td>0.050053</td>\n",
       "    </tr>\n",
       "    <tr>\n",
       "      <th>5</th>\n",
       "      <td>6</td>\n",
       "      <td>49869</td>\n",
       "      <td>0.049869</td>\n",
       "    </tr>\n",
       "    <tr>\n",
       "      <th>6</th>\n",
       "      <td>7</td>\n",
       "      <td>50034</td>\n",
       "      <td>0.050034</td>\n",
       "    </tr>\n",
       "    <tr>\n",
       "      <th>7</th>\n",
       "      <td>8</td>\n",
       "      <td>50285</td>\n",
       "      <td>0.050285</td>\n",
       "    </tr>\n",
       "    <tr>\n",
       "      <th>8</th>\n",
       "      <td>9</td>\n",
       "      <td>50084</td>\n",
       "      <td>0.050084</td>\n",
       "    </tr>\n",
       "    <tr>\n",
       "      <th>9</th>\n",
       "      <td>10</td>\n",
       "      <td>49689</td>\n",
       "      <td>0.049689</td>\n",
       "    </tr>\n",
       "    <tr>\n",
       "      <th>10</th>\n",
       "      <td>11</td>\n",
       "      <td>50246</td>\n",
       "      <td>0.050246</td>\n",
       "    </tr>\n",
       "    <tr>\n",
       "      <th>11</th>\n",
       "      <td>12</td>\n",
       "      <td>50065</td>\n",
       "      <td>0.050065</td>\n",
       "    </tr>\n",
       "    <tr>\n",
       "      <th>12</th>\n",
       "      <td>13</td>\n",
       "      <td>50082</td>\n",
       "      <td>0.050082</td>\n",
       "    </tr>\n",
       "    <tr>\n",
       "      <th>13</th>\n",
       "      <td>14</td>\n",
       "      <td>50149</td>\n",
       "      <td>0.050149</td>\n",
       "    </tr>\n",
       "    <tr>\n",
       "      <th>14</th>\n",
       "      <td>15</td>\n",
       "      <td>49936</td>\n",
       "      <td>0.049936</td>\n",
       "    </tr>\n",
       "    <tr>\n",
       "      <th>15</th>\n",
       "      <td>16</td>\n",
       "      <td>50332</td>\n",
       "      <td>0.050332</td>\n",
       "    </tr>\n",
       "    <tr>\n",
       "      <th>16</th>\n",
       "      <td>17</td>\n",
       "      <td>49640</td>\n",
       "      <td>0.049640</td>\n",
       "    </tr>\n",
       "    <tr>\n",
       "      <th>17</th>\n",
       "      <td>18</td>\n",
       "      <td>50267</td>\n",
       "      <td>0.050267</td>\n",
       "    </tr>\n",
       "    <tr>\n",
       "      <th>18</th>\n",
       "      <td>19</td>\n",
       "      <td>50007</td>\n",
       "      <td>0.050007</td>\n",
       "    </tr>\n",
       "    <tr>\n",
       "      <th>19</th>\n",
       "      <td>20</td>\n",
       "      <td>49580</td>\n",
       "      <td>0.049580</td>\n",
       "    </tr>\n",
       "  </tbody>\n",
       "</table>\n",
       "</div>"
      ],
      "text/plain": [
       "    Angka  Frekuensi  Probabilitas\n",
       "0       1      49909      0.049909\n",
       "1       2      50110      0.050110\n",
       "2       3      49509      0.049509\n",
       "3       4      50154      0.050154\n",
       "4       5      50053      0.050053\n",
       "5       6      49869      0.049869\n",
       "6       7      50034      0.050034\n",
       "7       8      50285      0.050285\n",
       "8       9      50084      0.050084\n",
       "9      10      49689      0.049689\n",
       "10     11      50246      0.050246\n",
       "11     12      50065      0.050065\n",
       "12     13      50082      0.050082\n",
       "13     14      50149      0.050149\n",
       "14     15      49936      0.049936\n",
       "15     16      50332      0.050332\n",
       "16     17      49640      0.049640\n",
       "17     18      50267      0.050267\n",
       "18     19      50007      0.050007\n",
       "19     20      49580      0.049580"
      ]
     },
     "execution_count": 17,
     "metadata": {},
     "output_type": "execute_result"
    }
   ],
   "source": [
    "data = {\n",
    "    \"Angka\": np.arange(1, SISI_DADU + 1),\n",
    "    \"Frekuensi\": frekuensi,\n",
    "    \"Probabilitas\": probabilitas\n",
    "}\n",
    "\n",
    "df = pd.DataFrame(data)\n",
    "df"
   ]
  }
 ],
 "metadata": {
  "kernelspec": {
   "display_name": ".venv",
   "language": "python",
   "name": "python3"
  },
  "language_info": {
   "codemirror_mode": {
    "name": "ipython",
    "version": 3
   },
   "file_extension": ".py",
   "mimetype": "text/x-python",
   "name": "python",
   "nbconvert_exporter": "python",
   "pygments_lexer": "ipython3",
   "version": "3.11.8"
  }
 },
 "nbformat": 4,
 "nbformat_minor": 2
}

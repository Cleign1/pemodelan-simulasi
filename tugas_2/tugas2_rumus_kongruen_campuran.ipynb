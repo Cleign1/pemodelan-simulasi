{
 "cells": [
  {
   "attachments": {
    "image.png": {
     "image/png": "[encoded data removed]"
    }
   },
   "cell_type": "markdown",
   "metadata": {},
   "source": [
    "Rumus Metode Kongruen Campuran\n",
    "\n",
    "![image.png](attachment:image.png)"
   ]
  },
  {
   "cell_type": "code",
   "execution_count": 42,
   "metadata": {},
   "outputs": [],
   "source": [
    "# Rumus Python\n",
    "# Rumus Metode Kongruen Campuran\n",
    "def rumus_kongruen_campuran(a, c, m, x0, n):\n",
    "    xn_1 = x0\n",
    "    for i in range(1, n + 1):\n",
    "        xn = (a * xn_1 + c) % m\n",
    "        R = xn_1 / m\n",
    "        print(f'X{i} = (({a})*({xn_1}) + {c}) mod {m} = {xn}. R{i} = {R:.3f} = {R}')\n",
    "        xn_1 = xn\n",
    "    return xn"
   ]
  },
  {
   "cell_type": "code",
   "execution_count": 43,
   "metadata": {},
   "outputs": [],
   "source": [
    "# Contoh Penggunaan\n",
    "a = 65\n",
    "c = 1\n",
    "m = 2048\n",
    "x0 = 129  # Initial X0 value\n",
    "n = 10  # We want X10"
   ]
  },
  {
   "cell_type": "code",
   "execution_count": 44,
   "metadata": {},
   "outputs": [
    {
     "name": "stdout",
     "output_type": "stream",
     "text": [
      "X1 = ((65)*(129) + 1) mod 2048 = 194. R1 = 0.063 = 0.06298828125\n",
      "X2 = ((65)*(194) + 1) mod 2048 = 323. R2 = 0.095 = 0.0947265625\n",
      "X3 = ((65)*(323) + 1) mod 2048 = 516. R3 = 0.158 = 0.15771484375\n",
      "X4 = ((65)*(516) + 1) mod 2048 = 773. R4 = 0.252 = 0.251953125\n",
      "X5 = ((65)*(773) + 1) mod 2048 = 1094. R5 = 0.377 = 0.37744140625\n",
      "X6 = ((65)*(1094) + 1) mod 2048 = 1479. R6 = 0.534 = 0.5341796875\n",
      "X7 = ((65)*(1479) + 1) mod 2048 = 1928. R7 = 0.722 = 0.72216796875\n",
      "X8 = ((65)*(1928) + 1) mod 2048 = 393. R8 = 0.941 = 0.94140625\n",
      "X9 = ((65)*(393) + 1) mod 2048 = 970. R9 = 0.192 = 0.19189453125\n",
      "X10 = ((65)*(970) + 1) mod 2048 = 1611. R10 = 0.474 = 0.4736328125\n",
      "\n",
      "The value of X10 is: 1611\n"
     ]
    }
   ],
   "source": [
    "x10_value = rumus_kongruen_campuran(a, c, m, x0, n)\n",
    "print(f'\\nThe value of X10 is: {x10_value}')"
   ]
  },
  {
   "cell_type": "code",
   "execution_count": 38,
   "metadata": {},
   "outputs": [
    {
     "name": "stdout",
     "output_type": "stream",
     "text": [
      "X1 = ((65)*(129) + 1) mod 2048 = 194 = R1 = 0.063\n",
      "X2 = ((65)*(194) + 1) mod 2048 = 323 = R2 = 0.095\n",
      "X3 = ((65)*(323) + 1) mod 2048 = 516 = R3 = 0.158\n",
      "X4 = ((65)*(516) + 1) mod 2048 = 773 = R4 = 0.252\n",
      "X5 = ((65)*(773) + 1) mod 2048 = 1094 = R5 = 0.377\n",
      "X6 = ((65)*(1094) + 1) mod 2048 = 1479 = R6 = 0.534\n",
      "X7 = ((65)*(1479) + 1) mod 2048 = 1928 = R7 = 0.722\n",
      "X8 = ((65)*(1928) + 1) mod 2048 = 393 = R8 = 0.941\n",
      "X9 = ((65)*(393) + 1) mod 2048 = 970 = R9 = 0.192\n",
      "X10 = ((65)*(970) + 1) mod 2048 = 1611 = R10 = 0.474\n",
      "X11 = ((65)*(1611) + 1) mod 2048 = 268 = R11 = 0.787\n",
      "X12 = ((65)*(268) + 1) mod 2048 = 1037 = R12 = 0.131\n",
      "X13 = ((65)*(1037) + 1) mod 2048 = 1870 = R13 = 0.506\n",
      "X14 = ((65)*(1870) + 1) mod 2048 = 719 = R14 = 0.913\n",
      "X15 = ((65)*(719) + 1) mod 2048 = 1680 = R15 = 0.351\n",
      "X16 = ((65)*(1680) + 1) mod 2048 = 657 = R16 = 0.820\n",
      "X17 = ((65)*(657) + 1) mod 2048 = 1746 = R17 = 0.321\n",
      "X18 = ((65)*(1746) + 1) mod 2048 = 851 = R18 = 0.853\n",
      "X19 = ((65)*(851) + 1) mod 2048 = 20 = R19 = 0.416\n",
      "X20 = ((65)*(20) + 1) mod 2048 = 1301 = R20 = 0.010\n",
      "\n",
      "Nilai dari X20 adalah: 1301\n"
     ]
    }
   ],
   "source": [
    "# program singkat untuk mencari nilai x ke n\n",
    "# dengan rumus metode kongruen campuran\n",
    "a = int(input(\"Masukkan Nilai a: \"))\n",
    "c = int(input(\"Masukkan Nilai c: \"))\n",
    "m = int(input(\"Masukkan Nilai m: \"))\n",
    "x0 = int(input(\"Masukkan Nilai x0: \"))\n",
    "n = int(input(\"Masukkan Nilai n: \"))\n",
    "xn = rumus_kongruen_campuran(a, c, m, x0, n)\n",
    "print(f'\\nNilai dari X{n} adalah: {xn}')"
   ]
  }
 ],
 "metadata": {
  "kernelspec": {
   "display_name": ".venv",
   "language": "python",
   "name": "python3"
  },
  "language_info": {
   "codemirror_mode": {
    "name": "ipython",
    "version": 3
   },
   "file_extension": ".py",
   "mimetype": "text/x-python",
   "name": "python",
   "nbconvert_exporter": "python",
   "pygments_lexer": "ipython3",
   "version": "3.11.8"
  }
 },
 "nbformat": 4,
 "nbformat_minor": 2
}

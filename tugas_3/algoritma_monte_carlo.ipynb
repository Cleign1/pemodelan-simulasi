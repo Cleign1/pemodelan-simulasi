{
 "cells": [
  {
   "cell_type": "markdown",
   "metadata": {},
   "source": [
    "# Simulasi Algoritma Monte Carlo di Pemrograman"
   ]
  },
  {
   "cell_type": "markdown",
   "metadata": {},
   "source": [
    "### Menghitung Luas Lingkaran"
   ]
  },
  {
   "cell_type": "code",
   "execution_count": 1,
   "metadata": {},
   "outputs": [],
   "source": [
    "import math"
   ]
  },
  {
   "cell_type": "code",
   "execution_count": 10,
   "metadata": {},
   "outputs": [],
   "source": [
    "def luas_lingkaran(r):\n",
    "    luas = math.pi * r * r\n",
    "    return f\"Luas lingkaran dengan jari-jari {r} adalah {r*r}\\u03C0 = {luas:.3f}\"\n",
    "    "
   ]
  },
  {
   "cell_type": "code",
   "execution_count": 14,
   "metadata": {},
   "outputs": [
    {
     "name": "stdout",
     "output_type": "stream",
     "text": [
      "Luas lingkaran dengan jari-jari 35 adalah 1225π = 3848.451\n"
     ]
    }
   ],
   "source": [
    "input_jari_jari = int(input(\"Masukkan jari-jari lingkaran: \"))\n",
    "luas_asli_lingkaran = luas_lingkaran(input_jari_jari)\n",
    "print(luas_asli_lingkaran)"
   ]
  }
 ],
 "metadata": {
  "kernelspec": {
   "display_name": ".venv",
   "language": "python",
   "name": "python3"
  },
  "language_info": {
   "codemirror_mode": {
    "name": "ipython",
    "version": 3
   },
   "file_extension": ".py",
   "mimetype": "text/x-python",
   "name": "python",
   "nbconvert_exporter": "python",
   "pygments_lexer": "ipython3",
   "version": "3.11.8"
  }
 },
 "nbformat": 4,
 "nbformat_minor": 2
}

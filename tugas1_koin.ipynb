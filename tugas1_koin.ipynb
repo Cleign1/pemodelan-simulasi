{
 "cells": [
  {
   "cell_type": "code",
   "execution_count": 1,
   "id": "d652fa2c-244b-401e-8fdb-ecd3be4eb47b",
   "metadata": {},
   "outputs": [],
   "source": [
    "import numpy as np"
   ]
  },
  {
   "cell_type": "code",
   "execution_count": 2,
   "id": "c083c9c0",
   "metadata": {},
   "outputs": [
    {
     "data": {
      "text/plain": [
       "'2.1.1'"
      ]
     },
     "execution_count": 2,
     "metadata": {},
     "output_type": "execute_result"
    }
   ],
   "source": [
    "np.__version__"
   ]
  },
  {
   "cell_type": "markdown",
   "id": "c7e588e9",
   "metadata": {},
   "source": [
    "## Coin flip"
   ]
  },
  {
   "cell_type": "code",
   "execution_count": 3,
   "id": "ddad497d",
   "metadata": {},
   "outputs": [],
   "source": [
    "# buat fungsi coin flip\n",
    "\n",
    "koin = [0, 1]\n",
    "\n",
    "def coin_flip():\n",
    "    return \"Gambar\" if np.random.choice(koin) == 0 else \"Angka\""
   ]
  },
  {
   "cell_type": "code",
   "execution_count": 4,
   "id": "6841a01f",
   "metadata": {},
   "outputs": [
    {
     "name": "stdout",
     "output_type": "stream",
     "text": [
      "Hasil Lempar Koin Sekali : Gambar\n"
     ]
    }
   ],
   "source": [
    "lempar_koin = coin_flip()\n",
    "print(f'Hasil Lempar Koin Sekali : {lempar_koin}')"
   ]
  },
  {
   "cell_type": "code",
   "execution_count": 5,
   "id": "21a650d3",
   "metadata": {},
   "outputs": [],
   "source": [
    "def simulasi_lempar_koin(n):\n",
    "    angka_count = 0\n",
    "    gambar_count = 0\n",
    "    \n",
    "    for _ in range(n):\n",
    "        hasil = coin_flip()\n",
    "        if hasil == 'Angka':\n",
    "            angka_count += 1\n",
    "            \n",
    "        else:\n",
    "            gambar_count += 1\n",
    "    return angka_count, gambar_count"
   ]
  },
  {
   "cell_type": "code",
   "execution_count": 9,
   "id": "b1e52083",
   "metadata": {},
   "outputs": [
    {
     "name": "stdout",
     "output_type": "stream",
     "text": [
      "Hasil Simulasi melempar koin sebanyak 1000000 kali\n",
      "Hasil total Angka : 500741 / 1000000\n",
      "Hasil total Gambar : 499259 / 1000000\n",
      "Hasil Probabilitas Angka : 0.500741\n",
      "Hasil Probabilitas Gambar : 0.499259\n"
     ]
    }
   ],
   "source": [
    "lempar = 1000000\n",
    "angka , gambar = simulasi_lempar_koin(lempar)\n",
    "probabilitas_angka = angka / lempar\n",
    "probabilitas_gambar = gambar / lempar\n",
    "print(f'Hasil Simulasi melempar koin sebanyak {lempar} kali')\n",
    "print(f'Hasil total Angka : {angka} / {1000000}')\n",
    "print(f'Hasil total Gambar : {gambar} / {1000000}')\n",
    "print(f'Hasil Probabilitas Angka : {probabilitas_angka:.6f}')\n",
    "print(f'Hasil Probabilitas Gambar : {probabilitas_gambar:.6f}')"
   ]
  }
 ],
 "metadata": {
  "kernelspec": {
   "display_name": "Python 3 (ipykernel)",
   "language": "python",
   "name": "python3"
  },
  "language_info": {
   "codemirror_mode": {
    "name": "ipython",
    "version": 3
   },
   "file_extension": ".py",
   "mimetype": "text/x-python",
   "name": "python",
   "nbconvert_exporter": "python",
   "pygments_lexer": "ipython3",
   "version": "3.11.8"
  }
 },
 "nbformat": 4,
 "nbformat_minor": 5
}
